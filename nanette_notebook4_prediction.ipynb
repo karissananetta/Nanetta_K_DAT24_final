{
 "cells": [
  {
   "cell_type": "code",
   "execution_count": 1,
   "metadata": {
    "collapsed": true
   },
   "outputs": [],
   "source": [
    "import pandas as pd\n",
    "import numpy as np\n",
    "from patsy import dmatrices, dmatrix\n",
    "from sklearn.ensemble import RandomForestClassifier\n",
    "from sklearn.neighbors import KNeighborsClassifier\n",
    "from sklearn.svm import SVC\n",
    "from sklearn.linear_model import Ridge, Lasso\n",
    "from sklearn.dummy import DummyClassifier\n",
    "from sklearn.preprocessing import StandardScaler\n",
    "from sklearn.grid_search import GridSearchCV\n",
    "from sklearn.cross_validation import cross_val_score\n",
    "import matplotlib.pyplot as plt\n",
    "%matplotlib inline"
   ]
  },
  {
   "cell_type": "code",
   "execution_count": 4,
   "metadata": {
    "collapsed": true
   },
   "outputs": [],
   "source": [
    "data = pd.read_csv('segment_data.csv')\n",
    "data = data.drop(data.columns[[0]], axis=1)"
   ]
  },
  {
   "cell_type": "code",
   "execution_count": 5,
   "metadata": {
    "collapsed": false
   },
   "outputs": [
    {
     "data": {
      "text/html": [
       "<div>\n",
       "<table border=\"1\" class=\"dataframe\">\n",
       "  <thead>\n",
       "    <tr style=\"text-align: right;\">\n",
       "      <th></th>\n",
       "      <th>average_stars</th>\n",
       "      <th>fans</th>\n",
       "      <th>review_count</th>\n",
       "      <th>yelping_age</th>\n",
       "      <th>number_of_friends</th>\n",
       "      <th>total_compliment</th>\n",
       "      <th>review_age_days_mean</th>\n",
       "      <th>stars_business</th>\n",
       "      <th>review_count_business_average</th>\n",
       "      <th>num_reviews_before_user_review</th>\n",
       "      <th>total_vote</th>\n",
       "      <th>segments</th>\n",
       "      <th>trendsetter</th>\n",
       "    </tr>\n",
       "  </thead>\n",
       "  <tbody>\n",
       "    <tr>\n",
       "      <th>0</th>\n",
       "      <td>4.14</td>\n",
       "      <td>69</td>\n",
       "      <td>108</td>\n",
       "      <td>4017</td>\n",
       "      <td>206</td>\n",
       "      <td>232</td>\n",
       "      <td>7.000000</td>\n",
       "      <td>4.000000</td>\n",
       "      <td>207.000000</td>\n",
       "      <td>1.000000</td>\n",
       "      <td>689</td>\n",
       "      <td>3</td>\n",
       "      <td>1</td>\n",
       "    </tr>\n",
       "    <tr>\n",
       "      <th>1</th>\n",
       "      <td>3.64</td>\n",
       "      <td>1012</td>\n",
       "      <td>1233</td>\n",
       "      <td>4017</td>\n",
       "      <td>1904</td>\n",
       "      <td>5686</td>\n",
       "      <td>861.964286</td>\n",
       "      <td>3.821429</td>\n",
       "      <td>587.857143</td>\n",
       "      <td>124.964286</td>\n",
       "      <td>29328</td>\n",
       "      <td>2</td>\n",
       "      <td>1</td>\n",
       "    </tr>\n",
       "    <tr>\n",
       "      <th>2</th>\n",
       "      <td>3.59</td>\n",
       "      <td>93</td>\n",
       "      <td>442</td>\n",
       "      <td>4017</td>\n",
       "      <td>354</td>\n",
       "      <td>639</td>\n",
       "      <td>311.000000</td>\n",
       "      <td>3.600000</td>\n",
       "      <td>338.800000</td>\n",
       "      <td>34.400000</td>\n",
       "      <td>3079</td>\n",
       "      <td>3</td>\n",
       "      <td>1</td>\n",
       "    </tr>\n",
       "    <tr>\n",
       "      <th>3</th>\n",
       "      <td>4.64</td>\n",
       "      <td>2</td>\n",
       "      <td>11</td>\n",
       "      <td>4017</td>\n",
       "      <td>4</td>\n",
       "      <td>2</td>\n",
       "      <td>0.000000</td>\n",
       "      <td>4.000000</td>\n",
       "      <td>113.500000</td>\n",
       "      <td>0.000000</td>\n",
       "      <td>17</td>\n",
       "      <td>1</td>\n",
       "      <td>0</td>\n",
       "    </tr>\n",
       "    <tr>\n",
       "      <th>4</th>\n",
       "      <td>3.80</td>\n",
       "      <td>3</td>\n",
       "      <td>66</td>\n",
       "      <td>4017</td>\n",
       "      <td>4</td>\n",
       "      <td>10</td>\n",
       "      <td>0.000000</td>\n",
       "      <td>4.000000</td>\n",
       "      <td>434.000000</td>\n",
       "      <td>0.000000</td>\n",
       "      <td>55</td>\n",
       "      <td>1</td>\n",
       "      <td>0</td>\n",
       "    </tr>\n",
       "  </tbody>\n",
       "</table>\n",
       "</div>"
      ],
      "text/plain": [
       "   average_stars  fans  review_count  yelping_age  number_of_friends  \\\n",
       "0           4.14    69           108         4017                206   \n",
       "1           3.64  1012          1233         4017               1904   \n",
       "2           3.59    93           442         4017                354   \n",
       "3           4.64     2            11         4017                  4   \n",
       "4           3.80     3            66         4017                  4   \n",
       "\n",
       "   total_compliment  review_age_days_mean  stars_business  \\\n",
       "0               232              7.000000        4.000000   \n",
       "1              5686            861.964286        3.821429   \n",
       "2               639            311.000000        3.600000   \n",
       "3                 2              0.000000        4.000000   \n",
       "4                10              0.000000        4.000000   \n",
       "\n",
       "   review_count_business_average  num_reviews_before_user_review  total_vote  \\\n",
       "0                     207.000000                        1.000000         689   \n",
       "1                     587.857143                      124.964286       29328   \n",
       "2                     338.800000                       34.400000        3079   \n",
       "3                     113.500000                        0.000000          17   \n",
       "4                     434.000000                        0.000000          55   \n",
       "\n",
       "   segments  trendsetter  \n",
       "0         3            1  \n",
       "1         2            1  \n",
       "2         3            1  \n",
       "3         1            0  \n",
       "4         1            0  "
      ]
     },
     "execution_count": 5,
     "metadata": {},
     "output_type": "execute_result"
    }
   ],
   "source": [
    "data.head()"
   ]
  },
  {
   "cell_type": "code",
   "execution_count": null,
   "metadata": {
    "collapsed": true
   },
   "outputs": [],
   "source": []
  }
 ],
 "metadata": {
  "kernelspec": {
   "display_name": "Python 2",
   "language": "python",
   "name": "python2"
  },
  "language_info": {
   "codemirror_mode": {
    "name": "ipython",
    "version": 2
   },
   "file_extension": ".py",
   "mimetype": "text/x-python",
   "name": "python",
   "nbconvert_exporter": "python",
   "pygments_lexer": "ipython2",
   "version": "2.7.10"
  }
 },
 "nbformat": 4,
 "nbformat_minor": 0
}
