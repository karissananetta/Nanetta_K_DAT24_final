{
 "cells": [
  {
   "cell_type": "markdown",
   "metadata": {},
   "source": [
    "# Random Forest"
   ]
  },
  {
   "cell_type": "code",
   "execution_count": 41,
   "metadata": {
    "collapsed": false
   },
   "outputs": [],
   "source": [
    "import pandas as pd\n",
    "import numpy as np\n",
    "from patsy import dmatrices, dmatrix\n",
    "from sklearn.ensemble import RandomForestClassifier\n",
    "from sklearn.neighbors import KNeighborsClassifier\n",
    "from sklearn.svm import SVC\n",
    "from sklearn.linear_model import Ridge, Lasso\n",
    "from sklearn.dummy import DummyClassifier\n",
    "from sklearn.preprocessing import StandardScaler\n",
    "from sklearn.grid_search import GridSearchCV\n",
    "from sklearn.cross_validation import cross_val_score\n",
    "import matplotlib.pyplot as plt\n",
    "%matplotlib inline"
   ]
  },
  {
   "cell_type": "code",
   "execution_count": 26,
   "metadata": {
    "collapsed": false
   },
   "outputs": [
    {
     "data": {
      "text/html": [
       "<div>\n",
       "<table border=\"1\" class=\"dataframe\">\n",
       "  <thead>\n",
       "    <tr style=\"text-align: right;\">\n",
       "      <th></th>\n",
       "      <th>average_stars</th>\n",
       "      <th>fans</th>\n",
       "      <th>review_count</th>\n",
       "      <th>yelping_age</th>\n",
       "      <th>number_of_friends</th>\n",
       "      <th>total_compliment</th>\n",
       "      <th>review_age_days_mean</th>\n",
       "      <th>stars_business</th>\n",
       "      <th>review_count_business_average</th>\n",
       "      <th>num_reviews_before_user_review</th>\n",
       "      <th>total_vote</th>\n",
       "      <th>segments</th>\n",
       "    </tr>\n",
       "  </thead>\n",
       "  <tbody>\n",
       "    <tr>\n",
       "      <th>0</th>\n",
       "      <td>4.14</td>\n",
       "      <td>69</td>\n",
       "      <td>108</td>\n",
       "      <td>4017</td>\n",
       "      <td>206</td>\n",
       "      <td>232</td>\n",
       "      <td>7.000000</td>\n",
       "      <td>4.000000</td>\n",
       "      <td>207.000000</td>\n",
       "      <td>1.000000</td>\n",
       "      <td>689</td>\n",
       "      <td>3</td>\n",
       "    </tr>\n",
       "    <tr>\n",
       "      <th>1</th>\n",
       "      <td>3.64</td>\n",
       "      <td>1012</td>\n",
       "      <td>1233</td>\n",
       "      <td>4017</td>\n",
       "      <td>1904</td>\n",
       "      <td>5686</td>\n",
       "      <td>861.964286</td>\n",
       "      <td>3.821429</td>\n",
       "      <td>587.857143</td>\n",
       "      <td>124.964286</td>\n",
       "      <td>29328</td>\n",
       "      <td>2</td>\n",
       "    </tr>\n",
       "    <tr>\n",
       "      <th>2</th>\n",
       "      <td>3.59</td>\n",
       "      <td>93</td>\n",
       "      <td>442</td>\n",
       "      <td>4017</td>\n",
       "      <td>354</td>\n",
       "      <td>639</td>\n",
       "      <td>311.000000</td>\n",
       "      <td>3.600000</td>\n",
       "      <td>338.800000</td>\n",
       "      <td>34.400000</td>\n",
       "      <td>3079</td>\n",
       "      <td>3</td>\n",
       "    </tr>\n",
       "    <tr>\n",
       "      <th>3</th>\n",
       "      <td>4.64</td>\n",
       "      <td>2</td>\n",
       "      <td>11</td>\n",
       "      <td>4017</td>\n",
       "      <td>4</td>\n",
       "      <td>2</td>\n",
       "      <td>0.000000</td>\n",
       "      <td>4.000000</td>\n",
       "      <td>113.500000</td>\n",
       "      <td>0.000000</td>\n",
       "      <td>17</td>\n",
       "      <td>1</td>\n",
       "    </tr>\n",
       "    <tr>\n",
       "      <th>4</th>\n",
       "      <td>3.80</td>\n",
       "      <td>3</td>\n",
       "      <td>66</td>\n",
       "      <td>4017</td>\n",
       "      <td>4</td>\n",
       "      <td>10</td>\n",
       "      <td>0.000000</td>\n",
       "      <td>4.000000</td>\n",
       "      <td>434.000000</td>\n",
       "      <td>0.000000</td>\n",
       "      <td>55</td>\n",
       "      <td>1</td>\n",
       "    </tr>\n",
       "  </tbody>\n",
       "</table>\n",
       "</div>"
      ],
      "text/plain": [
       "   average_stars  fans  review_count  yelping_age  number_of_friends  \\\n",
       "0           4.14    69           108         4017                206   \n",
       "1           3.64  1012          1233         4017               1904   \n",
       "2           3.59    93           442         4017                354   \n",
       "3           4.64     2            11         4017                  4   \n",
       "4           3.80     3            66         4017                  4   \n",
       "\n",
       "   total_compliment  review_age_days_mean  stars_business  \\\n",
       "0               232              7.000000        4.000000   \n",
       "1              5686            861.964286        3.821429   \n",
       "2               639            311.000000        3.600000   \n",
       "3                 2              0.000000        4.000000   \n",
       "4                10              0.000000        4.000000   \n",
       "\n",
       "   review_count_business_average  num_reviews_before_user_review  total_vote  \\\n",
       "0                     207.000000                        1.000000         689   \n",
       "1                     587.857143                      124.964286       29328   \n",
       "2                     338.800000                       34.400000        3079   \n",
       "3                     113.500000                        0.000000          17   \n",
       "4                     434.000000                        0.000000          55   \n",
       "\n",
       "   segments  \n",
       "0         3  \n",
       "1         2  \n",
       "2         3  \n",
       "3         1  \n",
       "4         1  "
      ]
     },
     "execution_count": 26,
     "metadata": {},
     "output_type": "execute_result"
    }
   ],
   "source": [
    "data = pd.read_csv('full_matrix2.csv')\n",
    "data = data.drop(data.columns[[0]], axis=1)\n",
    "data.head()"
   ]
  },
  {
   "cell_type": "code",
   "execution_count": 27,
   "metadata": {
    "collapsed": false
   },
   "outputs": [
    {
     "data": {
      "text/plain": [
       "366715"
      ]
     },
     "execution_count": 27,
     "metadata": {},
     "output_type": "execute_result"
    }
   ],
   "source": [
    "len(data)"
   ]
  },
  {
   "cell_type": "code",
   "execution_count": 28,
   "metadata": {
    "collapsed": false
   },
   "outputs": [
    {
     "name": "stdout",
     "output_type": "stream",
     "text": [
      "<class 'pandas.core.frame.DataFrame'>\n",
      "Int64Index: 366715 entries, 0 to 366714\n",
      "Data columns (total 12 columns):\n",
      "average_stars                     366715 non-null float64\n",
      "fans                              366715 non-null float64\n",
      "review_count                      366715 non-null float64\n",
      "yelping_age                       366715 non-null float64\n",
      "number_of_friends                 366715 non-null float64\n",
      "total_compliment                  366715 non-null float64\n",
      "review_age_days_mean              366715 non-null float64\n",
      "stars_business                    366715 non-null float64\n",
      "review_count_business_average     366715 non-null float64\n",
      "num_reviews_before_user_review    366715 non-null float64\n",
      "total_vote                        366715 non-null float64\n",
      "segments                          366715 non-null int64\n",
      "dtypes: float64(11), int64(1)\n",
      "memory usage: 36.4 MB\n"
     ]
    }
   ],
   "source": [
    "data.info()"
   ]
  },
  {
   "cell_type": "code",
   "execution_count": 29,
   "metadata": {
    "collapsed": false
   },
   "outputs": [
    {
     "data": {
      "text/html": [
       "<div>\n",
       "<table border=\"1\" class=\"dataframe\">\n",
       "  <thead>\n",
       "    <tr style=\"text-align: right;\">\n",
       "      <th></th>\n",
       "      <th>average_stars</th>\n",
       "      <th>fans</th>\n",
       "      <th>review_count</th>\n",
       "      <th>yelping_age</th>\n",
       "      <th>number_of_friends</th>\n",
       "      <th>total_compliment</th>\n",
       "      <th>review_age_days_mean</th>\n",
       "      <th>stars_business</th>\n",
       "      <th>review_count_business_average</th>\n",
       "      <th>num_reviews_before_user_review</th>\n",
       "      <th>total_vote</th>\n",
       "      <th>segments</th>\n",
       "    </tr>\n",
       "  </thead>\n",
       "  <tbody>\n",
       "    <tr>\n",
       "      <th>count</th>\n",
       "      <td>366715.000000</td>\n",
       "      <td>366715.000000</td>\n",
       "      <td>366715.000000</td>\n",
       "      <td>366715.000000</td>\n",
       "      <td>366715.000000</td>\n",
       "      <td>366715.000000</td>\n",
       "      <td>366715.000000</td>\n",
       "      <td>366715.000000</td>\n",
       "      <td>366715.000000</td>\n",
       "      <td>366715.000000</td>\n",
       "      <td>366715.000000</td>\n",
       "      <td>366715.000000</td>\n",
       "    </tr>\n",
       "    <tr>\n",
       "      <th>mean</th>\n",
       "      <td>3.718782</td>\n",
       "      <td>1.575338</td>\n",
       "      <td>32.214810</td>\n",
       "      <td>1465.349473</td>\n",
       "      <td>7.025017</td>\n",
       "      <td>26.335473</td>\n",
       "      <td>1246.208387</td>\n",
       "      <td>3.750110</td>\n",
       "      <td>344.651038</td>\n",
       "      <td>171.364550</td>\n",
       "      <td>122.217695</td>\n",
       "      <td>1.677739</td>\n",
       "    </tr>\n",
       "    <tr>\n",
       "      <th>std</th>\n",
       "      <td>1.029877</td>\n",
       "      <td>11.589510</td>\n",
       "      <td>94.837065</td>\n",
       "      <td>714.087542</td>\n",
       "      <td>39.901852</td>\n",
       "      <td>484.829538</td>\n",
       "      <td>791.718689</td>\n",
       "      <td>0.615740</td>\n",
       "      <td>558.715638</td>\n",
       "      <td>321.468803</td>\n",
       "      <td>1032.695916</td>\n",
       "      <td>2.002980</td>\n",
       "    </tr>\n",
       "    <tr>\n",
       "      <th>min</th>\n",
       "      <td>0.000000</td>\n",
       "      <td>0.000000</td>\n",
       "      <td>0.000000</td>\n",
       "      <td>273.000000</td>\n",
       "      <td>0.000000</td>\n",
       "      <td>0.000000</td>\n",
       "      <td>0.000000</td>\n",
       "      <td>1.000000</td>\n",
       "      <td>3.000000</td>\n",
       "      <td>0.000000</td>\n",
       "      <td>0.000000</td>\n",
       "      <td>0.000000</td>\n",
       "    </tr>\n",
       "    <tr>\n",
       "      <th>25%</th>\n",
       "      <td>3.270000</td>\n",
       "      <td>0.000000</td>\n",
       "      <td>2.000000</td>\n",
       "      <td>883.000000</td>\n",
       "      <td>0.000000</td>\n",
       "      <td>0.000000</td>\n",
       "      <td>636.000000</td>\n",
       "      <td>3.500000</td>\n",
       "      <td>43.000000</td>\n",
       "      <td>16.000000</td>\n",
       "      <td>2.000000</td>\n",
       "      <td>0.000000</td>\n",
       "    </tr>\n",
       "    <tr>\n",
       "      <th>50%</th>\n",
       "      <td>3.860000</td>\n",
       "      <td>0.000000</td>\n",
       "      <td>6.000000</td>\n",
       "      <td>1400.000000</td>\n",
       "      <td>0.000000</td>\n",
       "      <td>0.000000</td>\n",
       "      <td>1175.000000</td>\n",
       "      <td>3.833333</td>\n",
       "      <td>128.954545</td>\n",
       "      <td>56.333333</td>\n",
       "      <td>8.000000</td>\n",
       "      <td>1.000000</td>\n",
       "    </tr>\n",
       "    <tr>\n",
       "      <th>75%</th>\n",
       "      <td>4.430000</td>\n",
       "      <td>1.000000</td>\n",
       "      <td>21.000000</td>\n",
       "      <td>1918.000000</td>\n",
       "      <td>3.000000</td>\n",
       "      <td>2.000000</td>\n",
       "      <td>1759.677083</td>\n",
       "      <td>4.000000</td>\n",
       "      <td>371.361111</td>\n",
       "      <td>171.500000</td>\n",
       "      <td>34.000000</td>\n",
       "      <td>4.000000</td>\n",
       "    </tr>\n",
       "    <tr>\n",
       "      <th>max</th>\n",
       "      <td>5.000000</td>\n",
       "      <td>1298.000000</td>\n",
       "      <td>8843.000000</td>\n",
       "      <td>4017.000000</td>\n",
       "      <td>3830.000000</td>\n",
       "      <td>175944.000000</td>\n",
       "      <td>3732.000000</td>\n",
       "      <td>5.000000</td>\n",
       "      <td>4578.000000</td>\n",
       "      <td>4136.000000</td>\n",
       "      <td>100319.000000</td>\n",
       "      <td>5.000000</td>\n",
       "    </tr>\n",
       "  </tbody>\n",
       "</table>\n",
       "</div>"
      ],
      "text/plain": [
       "       average_stars           fans   review_count    yelping_age  \\\n",
       "count  366715.000000  366715.000000  366715.000000  366715.000000   \n",
       "mean        3.718782       1.575338      32.214810    1465.349473   \n",
       "std         1.029877      11.589510      94.837065     714.087542   \n",
       "min         0.000000       0.000000       0.000000     273.000000   \n",
       "25%         3.270000       0.000000       2.000000     883.000000   \n",
       "50%         3.860000       0.000000       6.000000    1400.000000   \n",
       "75%         4.430000       1.000000      21.000000    1918.000000   \n",
       "max         5.000000    1298.000000    8843.000000    4017.000000   \n",
       "\n",
       "       number_of_friends  total_compliment  review_age_days_mean  \\\n",
       "count      366715.000000     366715.000000         366715.000000   \n",
       "mean            7.025017         26.335473           1246.208387   \n",
       "std            39.901852        484.829538            791.718689   \n",
       "min             0.000000          0.000000              0.000000   \n",
       "25%             0.000000          0.000000            636.000000   \n",
       "50%             0.000000          0.000000           1175.000000   \n",
       "75%             3.000000          2.000000           1759.677083   \n",
       "max          3830.000000     175944.000000           3732.000000   \n",
       "\n",
       "       stars_business  review_count_business_average  \\\n",
       "count   366715.000000                  366715.000000   \n",
       "mean         3.750110                     344.651038   \n",
       "std          0.615740                     558.715638   \n",
       "min          1.000000                       3.000000   \n",
       "25%          3.500000                      43.000000   \n",
       "50%          3.833333                     128.954545   \n",
       "75%          4.000000                     371.361111   \n",
       "max          5.000000                    4578.000000   \n",
       "\n",
       "       num_reviews_before_user_review     total_vote       segments  \n",
       "count                   366715.000000  366715.000000  366715.000000  \n",
       "mean                       171.364550     122.217695       1.677739  \n",
       "std                        321.468803    1032.695916       2.002980  \n",
       "min                          0.000000       0.000000       0.000000  \n",
       "25%                         16.000000       2.000000       0.000000  \n",
       "50%                         56.333333       8.000000       1.000000  \n",
       "75%                        171.500000      34.000000       4.000000  \n",
       "max                       4136.000000  100319.000000       5.000000  "
      ]
     },
     "execution_count": 29,
     "metadata": {},
     "output_type": "execute_result"
    }
   ],
   "source": [
    "data.describe()"
   ]
  },
  {
   "cell_type": "code",
   "execution_count": 32,
   "metadata": {
    "collapsed": false
   },
   "outputs": [],
   "source": [
    "data['segments'] = data['segments'].astype(str)"
   ]
  },
  {
   "cell_type": "code",
   "execution_count": 33,
   "metadata": {
    "collapsed": false
   },
   "outputs": [
    {
     "name": "stdout",
     "output_type": "stream",
     "text": [
      "<class 'pandas.core.frame.DataFrame'>\n",
      "Int64Index: 366715 entries, 0 to 366714\n",
      "Data columns (total 12 columns):\n",
      "average_stars                     366715 non-null float64\n",
      "fans                              366715 non-null float64\n",
      "review_count                      366715 non-null float64\n",
      "yelping_age                       366715 non-null float64\n",
      "number_of_friends                 366715 non-null float64\n",
      "total_compliment                  366715 non-null float64\n",
      "review_age_days_mean              366715 non-null float64\n",
      "stars_business                    366715 non-null float64\n",
      "review_count_business_average     366715 non-null float64\n",
      "num_reviews_before_user_review    366715 non-null float64\n",
      "total_vote                        366715 non-null float64\n",
      "segments                          366715 non-null object\n",
      "dtypes: float64(11), object(1)\n",
      "memory usage: 36.4+ MB\n"
     ]
    }
   ],
   "source": [
    "data.info()"
   ]
  },
  {
   "cell_type": "code",
   "execution_count": 37,
   "metadata": {
    "collapsed": false
   },
   "outputs": [],
   "source": [
    "data['trendsetter'] = np.where((data['segments'] == '2') | (data['segments'] == '3'), 1, 0)"
   ]
  },
  {
   "cell_type": "code",
   "execution_count": 38,
   "metadata": {
    "collapsed": false
   },
   "outputs": [
    {
     "data": {
      "text/html": [
       "<div>\n",
       "<table border=\"1\" class=\"dataframe\">\n",
       "  <thead>\n",
       "    <tr style=\"text-align: right;\">\n",
       "      <th></th>\n",
       "      <th>average_stars</th>\n",
       "      <th>fans</th>\n",
       "      <th>review_count</th>\n",
       "      <th>yelping_age</th>\n",
       "      <th>number_of_friends</th>\n",
       "      <th>total_compliment</th>\n",
       "      <th>review_age_days_mean</th>\n",
       "      <th>stars_business</th>\n",
       "      <th>review_count_business_average</th>\n",
       "      <th>num_reviews_before_user_review</th>\n",
       "      <th>total_vote</th>\n",
       "      <th>segments</th>\n",
       "      <th>trendsetter</th>\n",
       "    </tr>\n",
       "  </thead>\n",
       "  <tbody>\n",
       "    <tr>\n",
       "      <th>0</th>\n",
       "      <td>4.14</td>\n",
       "      <td>69</td>\n",
       "      <td>108</td>\n",
       "      <td>4017</td>\n",
       "      <td>206</td>\n",
       "      <td>232</td>\n",
       "      <td>7.000000</td>\n",
       "      <td>4.000000</td>\n",
       "      <td>207.000000</td>\n",
       "      <td>1.000000</td>\n",
       "      <td>689</td>\n",
       "      <td>3</td>\n",
       "      <td>1</td>\n",
       "    </tr>\n",
       "    <tr>\n",
       "      <th>1</th>\n",
       "      <td>3.64</td>\n",
       "      <td>1012</td>\n",
       "      <td>1233</td>\n",
       "      <td>4017</td>\n",
       "      <td>1904</td>\n",
       "      <td>5686</td>\n",
       "      <td>861.964286</td>\n",
       "      <td>3.821429</td>\n",
       "      <td>587.857143</td>\n",
       "      <td>124.964286</td>\n",
       "      <td>29328</td>\n",
       "      <td>2</td>\n",
       "      <td>1</td>\n",
       "    </tr>\n",
       "    <tr>\n",
       "      <th>2</th>\n",
       "      <td>3.59</td>\n",
       "      <td>93</td>\n",
       "      <td>442</td>\n",
       "      <td>4017</td>\n",
       "      <td>354</td>\n",
       "      <td>639</td>\n",
       "      <td>311.000000</td>\n",
       "      <td>3.600000</td>\n",
       "      <td>338.800000</td>\n",
       "      <td>34.400000</td>\n",
       "      <td>3079</td>\n",
       "      <td>3</td>\n",
       "      <td>1</td>\n",
       "    </tr>\n",
       "    <tr>\n",
       "      <th>3</th>\n",
       "      <td>4.64</td>\n",
       "      <td>2</td>\n",
       "      <td>11</td>\n",
       "      <td>4017</td>\n",
       "      <td>4</td>\n",
       "      <td>2</td>\n",
       "      <td>0.000000</td>\n",
       "      <td>4.000000</td>\n",
       "      <td>113.500000</td>\n",
       "      <td>0.000000</td>\n",
       "      <td>17</td>\n",
       "      <td>1</td>\n",
       "      <td>0</td>\n",
       "    </tr>\n",
       "    <tr>\n",
       "      <th>4</th>\n",
       "      <td>3.80</td>\n",
       "      <td>3</td>\n",
       "      <td>66</td>\n",
       "      <td>4017</td>\n",
       "      <td>4</td>\n",
       "      <td>10</td>\n",
       "      <td>0.000000</td>\n",
       "      <td>4.000000</td>\n",
       "      <td>434.000000</td>\n",
       "      <td>0.000000</td>\n",
       "      <td>55</td>\n",
       "      <td>1</td>\n",
       "      <td>0</td>\n",
       "    </tr>\n",
       "  </tbody>\n",
       "</table>\n",
       "</div>"
      ],
      "text/plain": [
       "   average_stars  fans  review_count  yelping_age  number_of_friends  \\\n",
       "0           4.14    69           108         4017                206   \n",
       "1           3.64  1012          1233         4017               1904   \n",
       "2           3.59    93           442         4017                354   \n",
       "3           4.64     2            11         4017                  4   \n",
       "4           3.80     3            66         4017                  4   \n",
       "\n",
       "   total_compliment  review_age_days_mean  stars_business  \\\n",
       "0               232              7.000000        4.000000   \n",
       "1              5686            861.964286        3.821429   \n",
       "2               639            311.000000        3.600000   \n",
       "3                 2              0.000000        4.000000   \n",
       "4                10              0.000000        4.000000   \n",
       "\n",
       "   review_count_business_average  num_reviews_before_user_review  total_vote  \\\n",
       "0                     207.000000                        1.000000         689   \n",
       "1                     587.857143                      124.964286       29328   \n",
       "2                     338.800000                       34.400000        3079   \n",
       "3                     113.500000                        0.000000          17   \n",
       "4                     434.000000                        0.000000          55   \n",
       "\n",
       "  segments  trendsetter  \n",
       "0        3            1  \n",
       "1        2            1  \n",
       "2        3            1  \n",
       "3        1            0  \n",
       "4        1            0  "
      ]
     },
     "execution_count": 38,
     "metadata": {},
     "output_type": "execute_result"
    }
   ],
   "source": [
    "data.head()"
   ]
  },
  {
   "cell_type": "code",
   "execution_count": 50,
   "metadata": {
    "collapsed": true
   },
   "outputs": [],
   "source": [
    "data.to_csv('segment_data.csv')"
   ]
  },
  {
   "cell_type": "code",
   "execution_count": 39,
   "metadata": {
    "collapsed": true
   },
   "outputs": [],
   "source": [
    "y, X = dmatrices('trendsetter ~ 0 + average_stars + fans + review_count + yelping_age + number_of_friends + total_compliment + review_age_days_mean + stars_business + review_count_business_average + num_reviews_before_user_review + total_vote',\n",
    "                data, return_type = 'dataframe')\n",
    "y = np.ravel(y)"
   ]
  },
  {
   "cell_type": "code",
   "execution_count": 44,
   "metadata": {
    "collapsed": false
   },
   "outputs": [
    {
     "data": {
      "text/plain": [
       "DummyClassifier(constant=None, random_state=None, strategy='stratified')"
      ]
     },
     "execution_count": 44,
     "metadata": {},
     "output_type": "execute_result"
    }
   ],
   "source": [
    "rf = RandomForestClassifier(n_estimators = 100, max_features='sqrt')\n",
    "dc = DummyClassifier()\n",
    "\n",
    "rf.fit(X, y)\n",
    "dc.fit(X, y)"
   ]
  },
  {
   "cell_type": "code",
   "execution_count": 45,
   "metadata": {
    "collapsed": false
   },
   "outputs": [
    {
     "name": "stdout",
     "output_type": "stream",
     "text": [
      "0.999293730169\n",
      "0.977440246171\n"
     ]
    }
   ],
   "source": [
    "print np.abs(cross_val_score(rf, X, y, scoring='accuracy', cv=10)).mean()\n",
    "print np.abs(cross_val_score(dc, X, y, scoring='accuracy', cv=10)).mean()"
   ]
  },
  {
   "cell_type": "code",
   "execution_count": 46,
   "metadata": {
    "collapsed": false
   },
   "outputs": [
    {
     "data": {
      "text/html": [
       "<div>\n",
       "<table border=\"1\" class=\"dataframe\">\n",
       "  <thead>\n",
       "    <tr style=\"text-align: right;\">\n",
       "      <th></th>\n",
       "      <th>importance</th>\n",
       "    </tr>\n",
       "  </thead>\n",
       "  <tbody>\n",
       "    <tr>\n",
       "      <th>stars_business</th>\n",
       "      <td>0.006844</td>\n",
       "    </tr>\n",
       "    <tr>\n",
       "      <th>review_age_days_mean</th>\n",
       "      <td>0.006870</td>\n",
       "    </tr>\n",
       "    <tr>\n",
       "      <th>average_stars</th>\n",
       "      <td>0.007253</td>\n",
       "    </tr>\n",
       "    <tr>\n",
       "      <th>num_reviews_before_user_review</th>\n",
       "      <td>0.007886</td>\n",
       "    </tr>\n",
       "    <tr>\n",
       "      <th>review_count_business_average</th>\n",
       "      <td>0.008490</td>\n",
       "    </tr>\n",
       "    <tr>\n",
       "      <th>yelping_age</th>\n",
       "      <td>0.008945</td>\n",
       "    </tr>\n",
       "    <tr>\n",
       "      <th>number_of_friends</th>\n",
       "      <td>0.121899</td>\n",
       "    </tr>\n",
       "    <tr>\n",
       "      <th>total_compliment</th>\n",
       "      <td>0.122898</td>\n",
       "    </tr>\n",
       "    <tr>\n",
       "      <th>review_count</th>\n",
       "      <td>0.171449</td>\n",
       "    </tr>\n",
       "    <tr>\n",
       "      <th>fans</th>\n",
       "      <td>0.220838</td>\n",
       "    </tr>\n",
       "    <tr>\n",
       "      <th>total_vote</th>\n",
       "      <td>0.316627</td>\n",
       "    </tr>\n",
       "  </tbody>\n",
       "</table>\n",
       "</div>"
      ],
      "text/plain": [
       "                                importance\n",
       "stars_business                    0.006844\n",
       "review_age_days_mean              0.006870\n",
       "average_stars                     0.007253\n",
       "num_reviews_before_user_review    0.007886\n",
       "review_count_business_average     0.008490\n",
       "yelping_age                       0.008945\n",
       "number_of_friends                 0.121899\n",
       "total_compliment                  0.122898\n",
       "review_count                      0.171449\n",
       "fans                              0.220838\n",
       "total_vote                        0.316627"
      ]
     },
     "execution_count": 46,
     "metadata": {},
     "output_type": "execute_result"
    }
   ],
   "source": [
    "# feature importances\n",
    "# the higher, the more important the feature\n",
    "d = {'importance': rf.feature_importances_}\n",
    "pd.DataFrame(d, index=X.columns).sort('importance')"
   ]
  },
  {
   "cell_type": "code",
   "execution_count": 47,
   "metadata": {
    "collapsed": true
   },
   "outputs": [],
   "source": [
    "scale = StandardScaler()\n",
    "X_train = scale.fit(X).transform(X)"
   ]
  },
  {
   "cell_type": "code",
   "execution_count": 48,
   "metadata": {
    "collapsed": false
   },
   "outputs": [
    {
     "data": {
      "text/plain": [
       "SVC(C=1.0, cache_size=200, class_weight=None, coef0=0.0, degree=3, gamma=0.0,\n",
       "  kernel='rbf', max_iter=-1, probability=False, random_state=None,\n",
       "  shrinking=True, tol=0.001, verbose=False)"
      ]
     },
     "execution_count": 48,
     "metadata": {},
     "output_type": "execute_result"
    }
   ],
   "source": [
    "svm = SVC()\n",
    "svm.fit(X_train, y)"
   ]
  },
  {
   "cell_type": "code",
   "execution_count": 49,
   "metadata": {
    "collapsed": false
   },
   "outputs": [
    {
     "name": "stdout",
     "output_type": "stream",
     "text": [
      "0.999792755261\n"
     ]
    }
   ],
   "source": [
    "print np.abs(cross_val_score(svm, X_train, y, scoring='accuracy', cv=10)).mean()"
   ]
  },
  {
   "cell_type": "code",
   "execution_count": null,
   "metadata": {
    "collapsed": true
   },
   "outputs": [],
   "source": []
  },
  {
   "cell_type": "code",
   "execution_count": 8,
   "metadata": {
    "collapsed": false
   },
   "outputs": [
    {
     "data": {
      "text/plain": [
       "<matplotlib.axes._subplots.AxesSubplot at 0x1210de5d0>"
      ]
     },
     "execution_count": 8,
     "metadata": {},
     "output_type": "execute_result"
    },
    {
     "data": {
      "image/png": "[encoded data removed]",
      "text/plain": [
       "<matplotlib.figure.Figure at 0x121039b90>"
      ]
     },
     "metadata": {},
     "output_type": "display_data"
    }
   ],
   "source": [
    "import matplotlib.pyplot as plt\n",
    "%matplotlib inline\n",
    "\n",
    "data.trendsetter.hist(bins=11, figsize=(20,10))"
   ]
  },
  {
   "cell_type": "code",
   "execution_count": null,
   "metadata": {
    "collapsed": true
   },
   "outputs": [],
   "source": []
  },
  {
   "cell_type": "code",
   "execution_count": 9,
   "metadata": {
    "collapsed": false
   },
   "outputs": [
    {
     "data": {
      "text/plain": [
       "0.12568003274678438"
      ]
     },
     "execution_count": 9,
     "metadata": {},
     "output_type": "execute_result"
    }
   ],
   "source": [
    "reg = RandomForestRegressor(n_estimators=100, max_features='sqrt')\n",
    "reg.fit(X, y)\n",
    "np.abs(cross_val_score(reg, X, y, scoring='mean_absolute_error', cv=10, n_jobs=-1).mean())"
   ]
  },
  {
   "cell_type": "markdown",
   "metadata": {},
   "source": [
    "# SVM"
   ]
  },
  {
   "cell_type": "code",
   "execution_count": 18,
   "metadata": {
    "collapsed": true
   },
   "outputs": [],
   "source": [
    "import pandas as pd\n",
    "import numpy as np\n",
    "from patsy import dmatrices, dmatrix\n",
    "from sklearn.neighbors import KNeighborsClassifier\n",
    "from sklearn.svm import SVC\n",
    "from sklearn.grid_search import GridSearchCV\n",
    "from sklearn.cross_validation import cross_val_score\n",
    "from sklearn.preprocessing import StandardScaler\n",
    "%matplotlib inline"
   ]
  },
  {
   "cell_type": "code",
   "execution_count": 23,
   "metadata": {
    "collapsed": false
   },
   "outputs": [
    {
     "name": "stdout",
     "output_type": "stream",
     "text": [
      "{'n_neighbors': 4, 'weights': 'uniform', 'p': 1}\n"
     ]
    },
    {
     "ename": "NameError",
     "evalue": "name 'X_train' is not defined",
     "output_type": "error",
     "traceback": [
      "\u001b[0;31m---------------------------------------------------------------------------\u001b[0m",
      "\u001b[0;31mNameError\u001b[0m                                 Traceback (most recent call last)",
      "\u001b[0;32m<ipython-input-23-3913df77ca26>\u001b[0m in \u001b[0;36m<module>\u001b[0;34m()\u001b[0m\n\u001b[1;32m      6\u001b[0m \u001b[0mknn_clf\u001b[0m\u001b[0;34m.\u001b[0m\u001b[0mfit\u001b[0m\u001b[0;34m(\u001b[0m\u001b[0mX\u001b[0m\u001b[0;34m,\u001b[0m \u001b[0my\u001b[0m\u001b[0;34m)\u001b[0m\u001b[0;34m\u001b[0m\u001b[0m\n\u001b[1;32m      7\u001b[0m \u001b[0;32mprint\u001b[0m \u001b[0mknn_clf\u001b[0m\u001b[0;34m.\u001b[0m\u001b[0mbest_params_\u001b[0m\u001b[0;34m\u001b[0m\u001b[0m\n\u001b[0;32m----> 8\u001b[0;31m \u001b[0mcross_val_score\u001b[0m\u001b[0;34m(\u001b[0m\u001b[0mknn_clf\u001b[0m\u001b[0;34m,\u001b[0m \u001b[0mX_train\u001b[0m\u001b[0;34m,\u001b[0m \u001b[0my\u001b[0m\u001b[0;34m,\u001b[0m \u001b[0mcv\u001b[0m\u001b[0;34m=\u001b[0m\u001b[0;36m3\u001b[0m\u001b[0;34m)\u001b[0m\u001b[0;34m\u001b[0m\u001b[0m\n\u001b[0m",
      "\u001b[0;31mNameError\u001b[0m: name 'X_train' is not defined"
     ]
    }
   ],
   "source": [
    "# now try predicting the category with KNN\n",
    "parameters = {'n_neighbors': range(1, 5), 'weights': ['uniform', 'distance'],\n",
    "             'p': range(1,4)}\n",
    "knn = KNeighborsClassifier()\n",
    "knn_clf = GridSearchCV(knn, parameters, cv=3)\n",
    "knn_clf.fit(X, y)\n",
    "print knn_clf.best_params_\n",
    "cross_val_score(knn_clf, X_train, y, cv=3)"
   ]
  },
  {
   "cell_type": "code",
   "execution_count": null,
   "metadata": {
    "collapsed": true
   },
   "outputs": [],
   "source": []
  }
 ],
 "metadata": {
  "kernelspec": {
   "display_name": "Python 2",
   "language": "python",
   "name": "python2"
  },
  "language_info": {
   "codemirror_mode": {
    "name": "ipython",
    "version": 2
   },
   "file_extension": ".py",
   "mimetype": "text/x-python",
   "name": "python",
   "nbconvert_exporter": "python",
   "pygments_lexer": "ipython2",
   "version": "2.7.10"
  }
 },
 "nbformat": 4,
 "nbformat_minor": 0
}
